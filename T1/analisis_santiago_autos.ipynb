{
  "cells": [
    {
      "cell_type": "code",
      "metadata": {},
      "source": [
        "import pandas as pd\n",
        "import matplotlib.pyplot as plt\n",
        "import seaborn as sns\n",
        "import numpy as np\n",
        "import plotly.express as px\n",
        "\n",
        "# Cargar el CSV\n",
        "df = pd.read_csv(\"Chileautos Chile - Cars Listings.csv\")\n",
        "\n",
        "# Filtrar solo Santiago\n",
        "comunas_santiago = [\n",
        "    \"Santiago\", \"Providencia\", \"\u00d1u\u00f1oa\", \"Las Condes\", \"La Reina\", \"Macul\", \"San Miguel\",\n",
        "    \"La Florida\", \"Puente Alto\", \"Recoleta\", \"Independencia\", \"San Joaqu\u00edn\", \"Maip\u00fa\",\n",
        "    \"Pudahuel\", \"Estaci\u00f3n Central\", \"Cerrillos\", \"Pedro Aguirre Cerda\", \"El Bosque\",\n",
        "    \"Lo Espejo\", \"San Bernardo\", \"La Granja\", \"Lo Prado\", \"Renca\", \"Quinta Normal\",\n",
        "    \"Cerro Navia\", \"Huechuraba\", \"Pe\u00f1alol\u00e9n\", \"La Cisterna\", \"Vitacura\", \"Lo Barnechea\"\n",
        "]\n",
        "df_santiago = df[df[\"Comuna\"].isin(comunas_santiago)].copy()\n",
        "\n",
        "# Limpieza b\u00e1sica\n",
        "df_santiago = df_santiago.dropna(subset=[\"Transmision\", \"price\", \"Comuna\", \"Ano\"])\n",
        "df_santiago[\"Ano\"] = pd.to_numeric(df_santiago[\"Ano\"], errors=\"coerce\")\n",
        "df_santiago = df_santiago[df_santiago[\"price\"] > 0]\n",
        "df_santiago = df_santiago[df_santiago[\"Ano\"] > 1950]\n",
        "\n",
        "# Gr\u00e1fico 1: Diagrama de viol\u00edn \u2013 Precio por tipo de transmisi\u00f3n\n",
        "plt.figure(figsize=(10, 6))\n",
        "sns.violinplot(data=df_santiago, x=\"Transmision\", y=\"price\", palette=\"coolwarm\", scale=\"width\", cut=0)\n",
        "plt.title(\"Distribuci\u00f3n de precios por tipo de transmisi\u00f3n (Santiago)\")\n",
        "plt.ylabel(\"Precio (CLP)\")\n",
        "plt.xlabel(\"Tipo de transmisi\u00f3n\")\n",
        "plt.yscale('log')  # Por la gran dispersi\u00f3n\n",
        "plt.tight_layout()\n",
        "plt.show()\n",
        "\n",
        "# Gr\u00e1fico 2: Treemap \u2013 Edad promedio de autos por comuna\n",
        "df_santiago[\"Edad_auto\"] = 2025 - df_santiago[\"Ano\"]\n",
        "edad_comuna = df_santiago.groupby(\"Comuna\")[\"Edad_auto\"].mean().reset_index()\n",
        "\n",
        "fig = px.treemap(\n",
        "    edad_comuna,\n",
        "    path=[\"Comuna\"],\n",
        "    values=\"Edad_auto\",\n",
        "    color=\"Edad_auto\",\n",
        "    color_continuous_scale=\"RdYlGn_r\",\n",
        "    title=\"Edad promedio de los autos en venta por comuna (Santiago)\"\n",
        ")\n",
        "fig.show()\n"
      ],
      "outputs": [],
      "execution_count": null
    }
  ],
  "metadata": {
    "kernelspec": {
      "display_name": "Python 3",
      "language": "python",
      "name": "python3"
    },
    "language_info": {
      "name": "python",
      "version": "3.10"
    }
  },
  "nbformat": 4,
  "nbformat_minor": 2
}